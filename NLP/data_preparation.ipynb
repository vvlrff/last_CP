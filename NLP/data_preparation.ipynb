{
 "cells": [
  {
   "cell_type": "code",
   "execution_count": 1,
   "metadata": {},
   "outputs": [],
   "source": [
    "import pandas as pd\n",
    "from sklearn.model_selection import train_test_split\n",
    "pd.set_option('display.max_colwidth', None)"
   ]
  },
  {
   "cell_type": "code",
   "execution_count": 3,
   "metadata": {},
   "outputs": [],
   "source": [
    "data = pd.read_csv(\"train_dataset_train.csv\", delimiter=\";\")\n",
    "data = data.rename(columns={'Исполнитель':'executor', 'Группа тем': 'topic_group', 'Текст инцидента':'text', 'Тема': 'topic'})"
   ]
  },
  {
   "cell_type": "code",
   "execution_count": 4,
   "metadata": {},
   "outputs": [],
   "source": [
    "topic_group = list(data.topic_group.unique())\n",
    "topic = list(data.topic.unique())\n",
    "\n",
    "topic_group_with_nums = dict(enumerate(topic_group))\n",
    "topic_group_with_nums = dict((v,k) for k,v in topic_group_with_nums.items())\n",
    "\n",
    "topic_with_nums = dict(enumerate(topic))\n",
    "topic_with_nums = dict((v,k) for k,v in topic_with_nums.items())"
   ]
  },
  {
   "cell_type": "code",
   "execution_count": 5,
   "metadata": {},
   "outputs": [],
   "source": [
    "topic_group_dataset = data[['text', 'topic_group']]\n",
    "topic_dataset = data[['text', 'topic']]"
   ]
  },
  {
   "cell_type": "code",
   "execution_count": 6,
   "metadata": {},
   "outputs": [
    {
     "name": "stderr",
     "output_type": "stream",
     "text": [
      "C:\\Users\\Chubu\\AppData\\Local\\Temp\\ipykernel_21624\\1364566358.py:1: SettingWithCopyWarning: \n",
      "A value is trying to be set on a copy of a slice from a DataFrame.\n",
      "Try using .loc[row_indexer,col_indexer] = value instead\n",
      "\n",
      "See the caveats in the documentation: https://pandas.pydata.org/pandas-docs/stable/user_guide/indexing.html#returning-a-view-versus-a-copy\n",
      "  topic_group_dataset['topic_group'] = topic_group_dataset['topic_group'].map(topic_group_with_nums)\n",
      "C:\\Users\\Chubu\\AppData\\Local\\Temp\\ipykernel_21624\\1364566358.py:2: SettingWithCopyWarning: \n",
      "A value is trying to be set on a copy of a slice from a DataFrame.\n",
      "Try using .loc[row_indexer,col_indexer] = value instead\n",
      "\n",
      "See the caveats in the documentation: https://pandas.pydata.org/pandas-docs/stable/user_guide/indexing.html#returning-a-view-versus-a-copy\n",
      "  topic_dataset['topic'] = topic_dataset['topic'].map(topic_with_nums)\n"
     ]
    }
   ],
   "source": [
    "topic_group_dataset['topic_group'] = topic_group_dataset['topic_group'].map(topic_group_with_nums)\n",
    "topic_dataset['topic'] = topic_dataset['topic'].map(topic_with_nums)"
   ]
  },
  {
   "cell_type": "code",
   "execution_count": 10,
   "metadata": {},
   "outputs": [],
   "source": [
    "Х = topic_group_dataset['text']\n",
    "y = topic_group_dataset['topic_group']\n",
    "\n",
    "X_train, X_rem, y_train, y_rem = train_test_split(Х ,y, train_size=0.8)\n",
    "X_valid, X_test, y_valid, y_test = train_test_split(X_rem, y_rem, test_size=0.5)\n",
    "\n",
    "train_data = pd.concat([X_train, y_train], axis=1)\n",
    "valid_data = pd.concat([X_valid, y_valid], axis=1)\n",
    "test_data = pd.concat([X_test, y_test], axis=1)\n",
    "\n",
    "train_data.columns =['text', 'label']\n",
    "valid_data.columns =['text', 'label']\n",
    "test_data.columns =['text', 'label']\n",
    "\n",
    "train_data.to_csv(r\"train_topic_group.csv\", sep='\\t')\n",
    "valid_data.to_csv(r\"valid_topic_group.csv\", sep='\\t')\n",
    "test_data.to_csv(r\"test_topic_group.csv\", sep='\\t')"
   ]
  },
  {
   "cell_type": "code",
   "execution_count": 11,
   "metadata": {},
   "outputs": [],
   "source": [
    "Х = topic_dataset['text']\n",
    "y = topic_dataset['topic']\n",
    "\n",
    "X_train, X_rem, y_train, y_rem = train_test_split(Х ,y, train_size=0.8)\n",
    "X_valid, X_test, y_valid, y_test = train_test_split(X_rem, y_rem, test_size=0.5)\n",
    "\n",
    "train_data = pd.concat([X_train, y_train], axis=1)\n",
    "valid_data = pd.concat([X_valid, y_valid], axis=1)\n",
    "test_data = pd.concat([X_test, y_test], axis=1)\n",
    "\n",
    "train_data.columns =['text', 'label']\n",
    "valid_data.columns =['text', 'label']\n",
    "test_data.columns =['text', 'label']\n",
    "\n",
    "train_data.to_csv(r\"topic_train.csv\", sep='\\t')\n",
    "valid_data.to_csv(r\"topic_valid.csv\", sep='\\t')\n",
    "test_data.to_csv(r\"topic_test.csv\", sep='\\t')"
   ]
  }
 ],
 "metadata": {
  "kernelspec": {
   "display_name": "Python 3",
   "language": "python",
   "name": "python3"
  },
  "language_info": {
   "codemirror_mode": {
    "name": "ipython",
    "version": 3
   },
   "file_extension": ".py",
   "mimetype": "text/x-python",
   "name": "python",
   "nbconvert_exporter": "python",
   "pygments_lexer": "ipython3",
   "version": "3.10.10"
  }
 },
 "nbformat": 4,
 "nbformat_minor": 2
}
