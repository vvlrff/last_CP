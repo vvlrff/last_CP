{
  "cells": [
    {
      "cell_type": "markdown",
      "metadata": {
        "id": "kvkgktk9EUut"
      },
      "source": [
        "Подбираем данные и модели из нашего гита (ветка main)"
      ]
    },
    {
      "cell_type": "code",
      "execution_count": null,
      "metadata": {
        "colab": {
          "base_uri": "https://localhost:8080/"
        },
        "id": "pbiccyZg6-kE",
        "outputId": "f6e61373-1603-4c1c-97a8-dab864c7915d"
      },
      "outputs": [],
      "source": [
        "!wget https://raw.githubusercontent.com/vvlrff/last_CP/main/NLP/train_topic_group.csv\n",
        "!wget https://raw.githubusercontent.com/vvlrff/last_CP/main/NLP/test_topic_group.csv\n",
        "!wget https://raw.githubusercontent.com/vvlrff/last_CP/main/NLP/valid_topic_group.csv\n",
        "\n",
        "!wget https://raw.githubusercontent.com/vvlrff/last_CP/main/NLP/bert_train_classifier.py\n",
        "!wget https://raw.githubusercontent.com/vvlrff/last_CP/main/NLP/bert_dataset.py\n",
        "!wget https://raw.githubusercontent.com/vvlrff/last_CP/main/NLP/requirements.txt"
      ]
    },
    {
      "cell_type": "code",
      "execution_count": null,
      "metadata": {},
      "outputs": [],
      "source": [
        "!wget https://raw.githubusercontent.com/vvlrff/last_CP/main/NLP/topic_train.csv\n",
        "!wget https://raw.githubusercontent.com/vvlrff/last_CP/main/NLP/topic_test.csv\n",
        "!wget https://raw.githubusercontent.com/vvlrff/last_CP/main/NLP/topic_valid.csv\n",
        "\n",
        "!wget https://raw.githubusercontent.com/vvlrff/last_CP/main/NLP/bert_train_classifier.py\n",
        "!wget https://raw.githubusercontent.com/vvlrff/last_CP/main/NLP/bert_dataset.py\n",
        "!wget https://raw.githubusercontent.com/vvlrff/last_CP/main/NLP/requirements.txt"
      ]
    },
    {
      "cell_type": "code",
      "execution_count": null,
      "metadata": {},
      "outputs": [],
      "source": [
        "!wget https://raw.githubusercontent.com/vvlrff/last_CP/main/NLP/executor_train.csv\n",
        "!wget https://raw.githubusercontent.com/vvlrff/last_CP/main/NLP/executor_test.csv\n",
        "!wget https://raw.githubusercontent.com/vvlrff/last_CP/main/NLP/executor_valid.csv\n",
        "\n",
        "!wget https://raw.githubusercontent.com/vvlrff/last_CP/main/NLP/bert_train_classifier.py\n",
        "!wget https://raw.githubusercontent.com/vvlrff/last_CP/main/NLP/bert_dataset.py\n",
        "!wget https://raw.githubusercontent.com/vvlrff/last_CP/main/NLP/requirements.txt"
      ]
    },
    {
      "cell_type": "markdown",
      "metadata": {
        "id": "JasJclP8E3qG"
      },
      "source": [
        "Устанавливаем необходимые зависимости в колаб"
      ]
    },
    {
      "cell_type": "code",
      "execution_count": null,
      "metadata": {
        "id": "ASlmsIsJE4L2"
      },
      "outputs": [],
      "source": [
        "!pip install -r /content/requirements.txt"
      ]
    },
    {
      "cell_type": "markdown",
      "metadata": {},
      "source": [
        "Открываем данные"
      ]
    },
    {
      "cell_type": "code",
      "execution_count": 8,
      "metadata": {
        "id": "-tsq1G0m7sdr"
      },
      "outputs": [],
      "source": [
        "import pandas as pd\n",
        "train_data = pd.read_csv('/content/train_topic_group.csv', encoding='utf-8', delimiter='\\t')\n",
        "valid_data = pd.read_csv('/content/valid_topic_group.csv', encoding='utf-8', delimiter='\\t')\n",
        "test_data = pd.read_csv('/content/test_topic_group.csv', encoding='utf-8', delimiter='\\t')"
      ]
    },
    {
      "cell_type": "code",
      "execution_count": null,
      "metadata": {},
      "outputs": [],
      "source": [
        "import pandas as pd\n",
        "train_data = pd.read_csv('/content/topic_train.csv', encoding='utf-8', delimiter='\\t')\n",
        "valid_data = pd.read_csv('/content/topic_valid.csv', encoding='utf-8', delimiter='\\t')\n",
        "test_data = pd.read_csv('/content/topic_test.csv', encoding='utf-8', delimiter='\\t')"
      ]
    },
    {
      "cell_type": "code",
      "execution_count": null,
      "metadata": {},
      "outputs": [],
      "source": [
        "import pandas as pd\n",
        "train_data = pd.read_csv('/content/executor_train.csv', encoding='utf-8', delimiter='\\t')\n",
        "valid_data = pd.read_csv('/content/executor_valid.csv', encoding='utf-8', delimiter='\\t')\n",
        "test_data = pd.read_csv('/content/executor_test.csv', encoding='utf-8', delimiter='\\t')"
      ]
    },
    {
      "cell_type": "markdown",
      "metadata": {},
      "source": [
        "Смотрим, что все нормально с данными (данные разделяли 80/10/10)"
      ]
    },
    {
      "cell_type": "code",
      "execution_count": 10,
      "metadata": {
        "colab": {
          "base_uri": "https://localhost:8080/"
        },
        "id": "3C1twP0xom95",
        "outputId": "d65e17de-957e-41a7-9e84-2fc3ef7b96c0"
      },
      "outputs": [
        {
          "data": {
            "text/plain": [
              "(7240, 2)"
            ]
          },
          "execution_count": 10,
          "metadata": {},
          "output_type": "execute_result"
        }
      ],
      "source": [
        "print(train_data.shape)\n",
        "print(valid_data.shape)\n",
        "print(test_data.shape)"
      ]
    },
    {
      "cell_type": "code",
      "execution_count": null,
      "metadata": {},
      "outputs": [],
      "source": [
        "train_data.head(10)"
      ]
    },
    {
      "cell_type": "markdown",
      "metadata": {},
      "source": [
        "Подбираем все необходимое из скачанных с нашего гита файлов"
      ]
    },
    {
      "cell_type": "code",
      "execution_count": 14,
      "metadata": {
        "id": "jSiGixRy-h2c"
      },
      "outputs": [],
      "source": [
        "from bert_dataset import CustomDataset\n",
        "from bert_train_classifier import BertTrainClassifier"
      ]
    },
    {
      "cell_type": "markdown",
      "metadata": {
        "id": "xJtu_4PKFAxU"
      },
      "source": [
        "Создаем экземпляр класса классификатора на BERTе (маленьком, иначе не хватает мощностей)"
      ]
    },
    {
      "cell_type": "code",
      "execution_count": null,
      "metadata": {
        "colab": {
          "base_uri": "https://localhost:8080/"
        },
        "id": "kFHabt8p_IY7",
        "outputId": "e710ee0c-8be7-452e-8cd6-ccdc86577d55"
      },
      "outputs": [],
      "source": [
        "classifier = BertTrainClassifier(\n",
        "        model_path='cointegrated/LaBSE-en-ru',\n",
        "        tokenizer_path='cointegrated/LaBSE-en-ru',\n",
        "        n_classes=26,\n",
        "        epochs=10,\n",
        "        model_save_path='/content/NaturaLP_LaBSE_topic_group.pt'\n",
        ")"
      ]
    },
    {
      "cell_type": "code",
      "execution_count": null,
      "metadata": {},
      "outputs": [],
      "source": [
        "classifier = BertTrainClassifier(\n",
        "        model_path='cointegrated/LaBSE-en-ru',\n",
        "        tokenizer_path='cointegrated/LaBSE-en-ru',\n",
        "        n_classes=195,\n",
        "        epochs=10,\n",
        "        model_save_path='/content/NaturaLP_LaBSE_topic.pt'\n",
        ")"
      ]
    },
    {
      "cell_type": "code",
      "execution_count": null,
      "metadata": {},
      "outputs": [],
      "source": [
        "classifier = BertTrainClassifier(\n",
        "        model_path='cointegrated/LaBSE-en-ru',\n",
        "        tokenizer_path='cointegrated/LaBSE-en-ru',\n",
        "        n_classes=10,\n",
        "        epochs=10,\n",
        "        model_save_path='/content/NaturaLP_LaBSE_executor.pt'\n",
        ")"
      ]
    },
    {
      "cell_type": "markdown",
      "metadata": {
        "id": "5dc-F_9vFGb1"
      },
      "source": [
        "Готовимся к обучению классификатора"
      ]
    },
    {
      "cell_type": "code",
      "execution_count": null,
      "metadata": {
        "colab": {
          "base_uri": "https://localhost:8080/"
        },
        "id": "KoB7lDv_8AWe",
        "outputId": "7be32c3f-41fe-4756-a9e4-6c6a5a1d46e5"
      },
      "outputs": [],
      "source": [
        "classifier.preparation(\n",
        "        X_train=list(train_data['text']),\n",
        "        y_train=list(train_data['label']),\n",
        "        X_valid=list(valid_data['text']),\n",
        "        y_valid=list(valid_data['label'])\n",
        "    )"
      ]
    },
    {
      "cell_type": "markdown",
      "metadata": {
        "id": "eUVTfpC5FPsr"
      },
      "source": [
        "Учиться, учиться, и еще раз учиться..."
      ]
    },
    {
      "cell_type": "code",
      "execution_count": null,
      "metadata": {
        "colab": {
          "base_uri": "https://localhost:8080/"
        },
        "id": "Pj_RQTCB9dNJ",
        "outputId": "9e5d906e-288c-49b5-9df3-ae2b2adea5b7"
      },
      "outputs": [
        {
          "name": "stdout",
          "output_type": "stream",
          "text": [
            "Epoch 1/10\n"
          ]
        }
      ],
      "source": [
        "classifier.train()"
      ]
    },
    {
      "cell_type": "markdown",
      "metadata": {
        "id": "yPqZPcTmFTSd"
      },
      "source": [
        "Проверяемся"
      ]
    },
    {
      "cell_type": "code",
      "execution_count": null,
      "metadata": {
        "id": "B1jAxkTkBEMv"
      },
      "outputs": [],
      "source": [
        "texts = list(test_data['text'])\n",
        "labels = list(test_data['label'])\n",
        "\n",
        "predictions = [classifier.predict(t) for t in texts]"
      ]
    },
    {
      "cell_type": "code",
      "execution_count": null,
      "metadata": {
        "id": "xhJosdy6Bn0o"
      },
      "outputs": [],
      "source": [
        "from sklearn.metrics import precision_recall_fscore_support\n",
        "\n",
        "precision, recall, f1score = precision_recall_fscore_support(labels, predictions,average='micro')[:3]\n",
        "\n",
        "print(f'precision: {precision}, recall: {recall}, f1score: {f1score}')"
      ]
    }
  ],
  "metadata": {
    "accelerator": "GPU",
    "colab": {
      "gpuType": "T4",
      "provenance": []
    },
    "kernelspec": {
      "display_name": "Python 3",
      "name": "python3"
    },
    "language_info": {
      "codemirror_mode": {
        "name": "ipython",
        "version": 3
      },
      "file_extension": ".py",
      "mimetype": "text/x-python",
      "name": "python",
      "nbconvert_exporter": "python",
      "pygments_lexer": "ipython3",
      "version": "3.10.10"
    }
  },
  "nbformat": 4,
  "nbformat_minor": 0
}
