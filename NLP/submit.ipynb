{
 "cells": [
  {
   "cell_type": "code",
   "execution_count": 31,
   "metadata": {},
   "outputs": [],
   "source": [
    "import pandas as pd\n",
    "pd.set_option('display.max_colwidth', None)"
   ]
  },
  {
   "cell_type": "code",
   "execution_count": 17,
   "metadata": {},
   "outputs": [],
   "source": [
    "from bert_classifier import BertClassifier"
   ]
  },
  {
   "cell_type": "code",
   "execution_count": 18,
   "metadata": {},
   "outputs": [],
   "source": [
    "topic_group_classifier = BertClassifier(model_path=r'C:\\Users\\Chubu\\OneDrive\\Рабочий стол\\last_CP\\NLP\\NaturaLP_LaBSE_topic_group.pt',\n",
    "                                        tokenizer_path='cointegrated/LaBSE-en-ru')\n",
    "\n",
    "topic_classifier = BertClassifier(model_path=r'C:\\Users\\Chubu\\OneDrive\\Рабочий стол\\last_CP\\NLP\\NaturaLP_LaBSE_topic.pt',\n",
    "                                    tokenizer_path='cointegrated/LaBSE-en-ru')"
   ]
  },
  {
   "cell_type": "code",
   "execution_count": 19,
   "metadata": {},
   "outputs": [],
   "source": [
    "data = pd.read_csv(\"train_dataset_train.csv\", delimiter=\";\")\n",
    "data = data.rename(columns={'Исполнитель':'executor', 'Группа тем': 'topic_group', 'Текст инцидента':'text', 'Тема': 'topic'})\n",
    "\n",
    "topic_group_collector = dict(enumerate(list(data.topic_group.unique())))\n",
    "topic_collector = dict(enumerate(list(data.topic.unique())))"
   ]
  },
  {
   "cell_type": "code",
   "execution_count": 20,
   "metadata": {},
   "outputs": [],
   "source": [
    "submit_data = pd.read_csv('example.csv')"
   ]
  },
  {
   "cell_type": "code",
   "execution_count": 24,
   "metadata": {},
   "outputs": [],
   "source": [
    "submit_data['topic_group'] = submit_data['text'].map(topic_group_classifier.predict)\n",
    "submit_data['topic'] = submit_data['text'].map(topic_classifier.predict)"
   ]
  },
  {
   "cell_type": "code",
   "execution_count": 28,
   "metadata": {},
   "outputs": [],
   "source": [
    "submit_data = submit_data.replace({\"topic_group\": topic_group_collector})\n",
    "submit_data = submit_data.replace({\"topic\": topic_collector})"
   ]
  },
  {
   "cell_type": "code",
   "execution_count": 32,
   "metadata": {},
   "outputs": [
    {
     "data": {
      "text/html": [
       "<div>\n",
       "<style scoped>\n",
       "    .dataframe tbody tr th:only-of-type {\n",
       "        vertical-align: middle;\n",
       "    }\n",
       "\n",
       "    .dataframe tbody tr th {\n",
       "        vertical-align: top;\n",
       "    }\n",
       "\n",
       "    .dataframe thead th {\n",
       "        text-align: right;\n",
       "    }\n",
       "</style>\n",
       "<table border=\"1\" class=\"dataframe\">\n",
       "  <thead>\n",
       "    <tr style=\"text-align: right;\">\n",
       "      <th></th>\n",
       "      <th>text</th>\n",
       "      <th>topic_group</th>\n",
       "      <th>topic</th>\n",
       "    </tr>\n",
       "  </thead>\n",
       "  <tbody>\n",
       "    <tr>\n",
       "      <th>0</th>\n",
       "      <td>Оличное качество дорог в г. Соликамск! Всем советую прокатиться на своих машинах!</td>\n",
       "      <td>Дороги</td>\n",
       "      <td>★ Нарушение правил очистки дорог от снега и наледи/Обращения о необходимости очистить тротуар от снега и наледи</td>\n",
       "    </tr>\n",
       "    <tr>\n",
       "      <th>1</th>\n",
       "      <td>Ужасное качество освещения в г. Кунгур! Ничего не видно. очень темно!</td>\n",
       "      <td>Благоустройство</td>\n",
       "      <td>★ Неисправные фонари освещения</td>\n",
       "    </tr>\n",
       "    <tr>\n",
       "      <th>2</th>\n",
       "      <td>Скажите как получить пособие и материальную помощь после рождения 3 ребенка. Я живу в г. Пермь.</td>\n",
       "      <td>Социальное обслуживание и защита</td>\n",
       "      <td>Оказание гос. соц. помощи</td>\n",
       "    </tr>\n",
       "    <tr>\n",
       "      <th>3</th>\n",
       "      <td>Самый лучший город в мире - г. Лысьва! Очень нравится, путушествую тут каждый год!</td>\n",
       "      <td>Дороги</td>\n",
       "      <td>Учреждения культуры</td>\n",
       "    </tr>\n",
       "  </tbody>\n",
       "</table>\n",
       "</div>"
      ],
      "text/plain": [
       "                                                                                              text  \\\n",
       "0                Оличное качество дорог в г. Соликамск! Всем советую прокатиться на своих машинах!   \n",
       "1                            Ужасное качество освещения в г. Кунгур! Ничего не видно. очень темно!   \n",
       "2  Скажите как получить пособие и материальную помощь после рождения 3 ребенка. Я живу в г. Пермь.   \n",
       "3               Самый лучший город в мире - г. Лысьва! Очень нравится, путушествую тут каждый год!   \n",
       "\n",
       "                        topic_group  \\\n",
       "0                            Дороги   \n",
       "1                   Благоустройство   \n",
       "2  Социальное обслуживание и защита   \n",
       "3                            Дороги   \n",
       "\n",
       "                                                                                                             topic  \n",
       "0  ★ Нарушение правил очистки дорог от снега и наледи/Обращения о необходимости очистить тротуар от снега и наледи  \n",
       "1                                                                                   ★ Неисправные фонари освещения  \n",
       "2                                                                                        Оказание гос. соц. помощи  \n",
       "3                                                                                              Учреждения культуры  "
      ]
     },
     "execution_count": 32,
     "metadata": {},
     "output_type": "execute_result"
    }
   ],
   "source": [
    "submit_data.head()"
   ]
  }
 ],
 "metadata": {
  "kernelspec": {
   "display_name": "Python 3",
   "language": "python",
   "name": "python3"
  },
  "language_info": {
   "codemirror_mode": {
    "name": "ipython",
    "version": 3
   },
   "file_extension": ".py",
   "mimetype": "text/x-python",
   "name": "python",
   "nbconvert_exporter": "python",
   "pygments_lexer": "ipython3",
   "version": "3.10.10"
  }
 },
 "nbformat": 4,
 "nbformat_minor": 2
}
